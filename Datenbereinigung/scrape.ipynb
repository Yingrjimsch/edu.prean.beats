{
 "cells": [
  {
   "cell_type": "code",
   "execution_count": null,
   "metadata": {},
   "outputs": [],
   "source": [
    "import requests\n",
    "from bs4 import BeautifulSoup\n",
    "import json\n",
    "import time\n",
    "import pandas as pd\n",
    "from tqdm import tqdm\n",
    "data = pd.read_csv('./data/spotify-2023_man.csv')\n",
    "headers = {'content-type': 'application/json', 'User-Agent': 'Mozilla/5.0 (Macintosh; Intel Mac OS X 10_11_5) AppleWebKit/537.36 (KHTML, like Gecko) Chrome/50.0.2661.102 Safari/537.36'}\n",
    "songs = []\n",
    "data = data['artist.s._name'].to_numpy()\n",
    "for i in tqdm(range(len(data))):\n",
    "    artists = data[i].split(', ')\n",
    "    cumulative_monthly_listeners = 0\n",
    "    for artist in range(len(artists)):\n",
    "        except_count = 0 \n",
    "        while except_count < 10:\n",
    "            try:\n",
    "                artist_json = requests.get(f\"https://data.songstats.com/api/v1/subscriptions/artist_label_search?q={artists[artist]}&searchType=all&idUnique=r7nmhstl\", headers=headers).json()\n",
    "                artist_json = sorted(artist_json['artists'], key=lambda k: k['tier'])[0]\n",
    "                id = artist_json['idUnique']\n",
    "                artist_json = requests.get(f\"https://data.songstats.com/api/v1/analytics/multi_entity_stat_overview?sources=overview&forWidget=false&idUnique={id}\", headers=headers).json()\n",
    "                monthly_listeners = artist_json['data'][0]['data']['monthlyListenersCurrent']\n",
    "                print(artists[artist], id, monthly_listeners)\n",
    "                cumulative_monthly_listeners += monthly_listeners\n",
    "                except_count = 11\n",
    "            except Exception:\n",
    "                except_count += 1\n",
    "                print(f'Exception has been caught exception count: {except_count} / 10')\n",
    "                time.sleep(10)\n",
    "                continue\n",
    "    cumulative_monthly_listeners /= len(artists)\n",
    "    songs.append((i + 1, cumulative_monthly_listeners))\n",
    "    with open(\"./data/cumulative_listeners.txt\", \"a\") as f:\n",
    "        f.write(f'{i},{cumulative_monthly_listeners}\\n')\n",
    "    print(f'Song number {i + 1} is successfully exportet with', cumulative_monthly_listeners, 'monthly listeners')\n",
    "    #print(f'Actors {actors}')\n",
    "\n",
    "\n",
    "artist_page = requests.get(\"https://data.songstats.com/api/v1/subscriptions/artist_label_search?q=Jung Kook&searchType=all&idUnique=r7nmhstl\", headers=headers)\n",
    "artist_json = artist_page.json()\n"
   ]
  }
 ],
 "metadata": {
  "kernelspec": {
   "display_name": "py10",
   "language": "python",
   "name": "python3"
  },
  "language_info": {
   "codemirror_mode": {
    "name": "ipython",
    "version": 3
   },
   "file_extension": ".py",
   "mimetype": "text/x-python",
   "name": "python",
   "nbconvert_exporter": "python",
   "pygments_lexer": "ipython3",
   "version": "3.10.12"
  }
 },
 "nbformat": 4,
 "nbformat_minor": 2
}
